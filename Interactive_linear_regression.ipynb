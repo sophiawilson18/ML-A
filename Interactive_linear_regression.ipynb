{
  "cells": [
    {
      "cell_type": "markdown",
      "metadata": {
        "id": "odZPUVzLFUbX"
      },
      "source": [
        "# Linear Regression\n",
        "### Christian Igel, 2024\n",
        "\n",
        "\n",
        "I took inspiration from https://github.com/tirthajyoti/Interactive_Machine_Learning by Tirthajyoti Sarkar.\n",
        "I am happy for suggestions to improve the notebook."
      ]
    },
    {
      "cell_type": "code",
      "execution_count": 4,
      "metadata": {
        "id": "ygMKr93aFUbZ"
      },
      "outputs": [],
      "source": [
        "from ipywidgets import interact, interactive, IntSlider, Layout, interact_manual, fixed\n",
        "import ipywidgets as widgets\n",
        "from IPython.display import display\n",
        "\n",
        "import numpy as np\n",
        "import matplotlib.pyplot as plt\n",
        "\n",
        "import sys\n",
        "if not 'google.colab' in sys.modules:  # do not use LaTeX in Google Colab\n",
        "    plt.rcParams['text.usetex'] = True  # set to False if you run into LaTeX problems\n",
        "    plt.rc('text.latex', preamble=r'\\usepackage{amsmath,amsfonts,bm}')\n",
        "\n",
        "from sklearn.model_selection import train_test_split\n",
        "from sklearn.preprocessing import PolynomialFeatures\n",
        "from sklearn.linear_model import LassoCV, Lasso\n",
        "from sklearn.linear_model import RidgeCV, Ridge\n",
        "from sklearn.linear_model import LinearRegression\n",
        "from sklearn.preprocessing import StandardScaler\n",
        "from sklearn.pipeline import make_pipeline\n",
        "from sklearn.model_selection import KFold"
      ]
    },
    {
      "cell_type": "markdown",
      "metadata": {
        "id": "g__RJbn2FUbZ"
      },
      "source": [
        "## Linear Regression and Regularization"
      ]
    },
    {
      "cell_type": "markdown",
      "metadata": {
        "id": "2ilTv-_sFUba"
      },
      "source": [
        "### Function to fit\n",
        "Just some artificial function with Gaussian noise."
      ]
    },
    {
      "cell_type": "code",
      "execution_count": 5,
      "metadata": {
        "id": "nnF0Q8pFFUba"
      },
      "outputs": [],
      "source": [
        "def func_gen(N_samples, noise_sd, resolution=500):\n",
        "    \"\"\"Data generator.\n",
        "    Parameters:\n",
        "        N_samples: data set size\n",
        "        noise_sd: std. deviation of additive zero mean Gaussin noise\n",
        "        resolution: number of equally spaced points for plotting noise-free function\n",
        "    Returns:\n",
        "        x, y: inputs and (noisy) targets\n",
        "        x_lin, y_lin: equally spaced inputs and their noise-free function values\n",
        "        x_min, x_max: input domain\n",
        "    \"\"\"\n",
        "    def func(x):\n",
        "        return 2*x -0.6*x**2 + 0.2*x**3+12 * np.sin(x)\n",
        "    x_min = -5\n",
        "    x_max = 5\n",
        "    x_lin = np.linspace(x_min, x_max, resolution)  # equally spaced points\n",
        "    x = np.random.choice(x_lin, size=N_samples)  # random points\n",
        "    y = func(x)\n",
        "    y_lin = func(x_lin)\n",
        "    y = y + np.random.normal(scale=noise_sd, size=N_samples)\n",
        "    plt.figure(figsize=(8,5))\n",
        "    plt.plot(x_lin,y_lin,c='C1',lw=2)\n",
        "    plt.scatter(x,y,c='C0',s=60)\n",
        "    plt.grid(True)\n",
        "    plt.show()\n",
        "    return (x.reshape(-1,1), y, x_lin, y_lin, x_min, x_max)"
      ]
    },
    {
      "cell_type": "markdown",
      "metadata": {
        "id": "1Sw18PfgFUba"
      },
      "source": [
        "### Call the interactive widget with the data generating function"
      ]
    },
    {
      "cell_type": "code",
      "execution_count": null,
      "metadata": {
        "colab": {
          "base_uri": "https://localhost:8080/",
          "height": 509,
          "referenced_widgets": [
            "1e72dc457790421d9d3a0ef8aea2ad59",
            "664c43f38a2a43caac728a73fba19365",
            "06b114a5cfad4786ad9376c5baf8885e",
            "08f2802058f149d79c3f4f3b52782666",
            "7bc0fddb5d2c432aa3c5f42d81160300",
            "f4b0eac0a0354c198ad40834c0916df2",
            "7953d08c7baa491eabefc1e8bbee6f80",
            "91fefb5088f145a18a47d23ec973bcd2",
            "61696d33f9134e6f8402f4d31f1a797a",
            "ef33367ff85642b8ab7ae8557b0c9baf"
          ]
        },
        "id": "u0lM5cNoFUba",
        "outputId": "1b7b83ae-0387-4c47-ac85-7c83810f86ac"
      },
      "outputs": [],
      "source": [
        "p = interactive(func_gen,\n",
        "                N_samples=widgets.IntSlider(min=10, max=200., step=10, continuous_update=False, value=100, description='#samples'),\n",
        "                noise_sd=widgets.FloatSlider(min=0., max=10., step=0.5, continuous_update=False, value=2.5, description='noise sd'), resolution=fixed(500))\n",
        "display(p)"
      ]
    },
    {
      "cell_type": "code",
      "execution_count": null,
      "metadata": {
        "id": "QE1txz5UFUbb"
      },
      "outputs": [],
      "source": [
        "# Extract the data from the plot\n",
        "x, y, x_lin, y_lin, x_min, x_max = p.result"
      ]
    },
    {
      "cell_type": "markdown",
      "metadata": {
        "id": "rzJn7evhFUbg"
      },
      "source": [
        "### Linear models encapsulated in a function"
      ]
    },
    {
      "cell_type": "code",
      "execution_count": null,
      "metadata": {
        "id": "_PAb6vBAFUbg"
      },
      "outputs": [],
      "source": [
        "lasso_eps = 0.01\n",
        "lasso_nalpha = 20  # alpha = lambda (= gamma)\n",
        "lasso_iter = 100000  # maximum number of iterative LASSO optimization steps\n",
        "lasso_tol = 0.0001  # controls a stopping criterion of the LASSO optimization\n",
        "\n",
        "def func_fit(model_type, test_size, degree, alpha, resolution=500, save=False):\n",
        "    \"\"\"Fits model to data.\n",
        "    Parameters:\n",
        "        model_type: 'Linear regression', 'Ridge', or 'LASSO'\n",
        "        test_size: percentage of test data\n",
        "        degree: degree of polynomial\n",
        "        alpha: natural logarithm of regularization parameter\n",
        "        resolution: number of equally spaced points for plotting\n",
        "        save: Boolean for saving plot yes/no\n",
        "    Returns:\n",
        "        train_score, test_score: training and test score (R2)\n",
        "        model, model_type: model and given model type\n",
        "    \"\"\"\n",
        "    # split data into training and test set\n",
        "    X_train, X_test, y_train, y_test = train_test_split(x, y, test_size=test_size, random_state=55)\n",
        "\n",
        "    # transform data into feature space\n",
        "    poly = PolynomialFeatures(degree=degree, interaction_only=False)\n",
        "    X_train_poly = poly.fit_transform(X_train)\n",
        "    X_test_poly  = poly.transform(X_test)\n",
        "\n",
        "    # standardize input data\n",
        "    scaler = StandardScaler()\n",
        "    scaler.fit_transform(X_train_poly)\n",
        "    scaler.transform(X_test_poly)\n",
        "\n",
        "    # model\n",
        "    if (model_type=='Linear regression'):\n",
        "        model = LinearRegression(fit_intercept=False)\n",
        "    elif (model_type=='Ridge'):\n",
        "        model = Ridge(alpha=np.exp(alpha), fit_intercept=False, solver='svd')\n",
        "    elif (model_type=='LASSO'):\n",
        "        model = Lasso(alpha=np.exp(alpha), fit_intercept=False, max_iter=lasso_iter, warm_start=True, positive=False, selection='random')\n",
        "\n",
        "    model.fit(X_train_poly, y_train)\n",
        "\n",
        "    train_pred = np.array(model.predict(X_train_poly))\n",
        "    train_score = model.score(X_train_poly, y_train)\n",
        "\n",
        "    test_pred = np.array(model.predict(X_test_poly))\n",
        "    test_score = model.score(X_test_poly, y_test)\n",
        "\n",
        "    X_grid = np.linspace(x_min, x_max, resolution).reshape(-1,1)\n",
        "    X_grid_poly  = poly.transform(X_grid)\n",
        "    scaler.transform(X_grid_poly)\n",
        "    y_grid = np.array(model.predict(X_grid_poly))\n",
        "\n",
        "    plt.figure(figsize=(14,6))\n",
        "\n",
        "    plt.subplot(1,2,2)\n",
        "    plt.title(r\"Test $R^2$ score: %.3f\"%(test_score))\n",
        "    plt.xlabel(r\"$x$\", fontsize=14)\n",
        "    plt.ylabel(r\"$y$\", fontsize=14)\n",
        "    plt.scatter(X_test, y_test, c='C0', s=60, label='Actual test values')\n",
        "    plt.scatter(X_test, test_pred,c='C1', s=40, label='Predicted values')\n",
        "    plt.plot(X_grid, y_grid, label=\"Model\", c='C1', lw=2)\n",
        "    y_min = np.min([y_test.min(), test_pred.min()])\n",
        "    y_max = np.min([y_test.max(), test_pred.max()])\n",
        "    plt.ylim([np.amin([1.1*y_min, 0.9*y_min]), np.amax([1.1*y_max, 0.9*y_max])])\n",
        "    plt.xlim(np.min(X_grid), np.max(X_grid))\n",
        "    plt.plot(x_lin, y_lin, label=\"Function w/o noise\", c='red', lw=2, alpha=0.5)\n",
        "    plt.grid(True)\n",
        "    plt.legend()\n",
        "\n",
        "    plt.subplot(1,2,1)\n",
        "    plt.title(r\"Training $R^2$ score: %.3f\"%(train_score))\n",
        "    plt.xlabel(r\"$x$\", fontsize=14)\n",
        "    plt.ylabel(r\"$y$\", fontsize=14)\n",
        "    plt.scatter(X_train, y_train, c='C0', label=\"Traning data\", s=60)\n",
        "    plt.scatter(X_train, train_pred, c='C1', label=\"Fitted values\", s=40)\n",
        "    plt.plot(X_grid, y_grid, label=\"Model\", c='C1', lw=2)\n",
        "    y_min = np.min([y_train.min(), train_pred.min()])\n",
        "    y_max = np.min([y_train.max(), train_pred.max()])\n",
        "    plt.ylim([np.amin([1.1*y_min, 0.9*y_min]), np.amax([1.1*y_max, 0.9*y_max])])\n",
        "    plt.xlim(np.min(X_grid), np.max(X_grid))\n",
        "    plt.plot(x_lin, y_lin, label=\"Function w/o noise\", c='red', lw=2, alpha=0.5)\n",
        "    plt.grid(True)\n",
        "    plt.legend()\n",
        "    if save:\n",
        "        plt.savefig(\"interactiveLinearRegression\"+str(degree)+\".pdf\",bbox_inches='tight')\n",
        "    plt.show()\n",
        "\n",
        "    return (train_score, test_score, model, model_type, test_size)"
      ]
    },
    {
      "cell_type": "markdown",
      "metadata": {
        "id": "FqR_5i1rFUbg"
      },
      "source": [
        "### Run the encapsulated ML function\n",
        "The score is the coefficient of determination $R^2$, the closer to 1 the better (see assignment).\n",
        "The regularization parameter is referred to as $\\lambda$ (the parameter of the Python function is called `alpha` and in the literature $\\gamma$ is often used). For some setting, the optimization algorithms do not converge (simply ignore the warning)."
      ]
    },
    {
      "cell_type": "code",
      "execution_count": null,
      "metadata": {
        "colab": {
          "base_uri": "https://localhost:8080/",
          "height": 797,
          "referenced_widgets": [
            "c3add803b06b4f0ea55e2bb8c1f5e0cf",
            "4b76867b96894135b28afc2fa9738e92",
            "3eaaffcfb26f437aa09ffb0f3a951362",
            "30789375dd894cc897274ee51d2bd110",
            "fa36073fcc2649bf893cb9ecae4807ee",
            "c1c99fe23aea4e23adf3bcbfcecc02e8",
            "1f485529fb4e4eff9b06a0a279b87a7a",
            "d673d92b534747c78c47cb8d57dd8070",
            "2c39d0b057ed42468fb060e99fe2ddc8",
            "b56c80c723eb430c983967d4b2df4460",
            "03bd904281dc41f8bf23b8b31aeeaa26",
            "b03433df977041008ab16417f58cdc1e",
            "8f8143bc097a43cf8ffc5c19f583cbf1",
            "762f35b652d449f19efd8506f2b72138",
            "3dece1ae58424f5aac0616d25cc60efb",
            "551211fc11d3425cac406390e410ef32",
            "3c3016fe21754e34a5915b63703321b7",
            "e8cea78e07024a21bfddbc35a8369781",
            "20327694b1c64da28cf180e0fe37fd49"
          ]
        },
        "id": "kyEDiDdyFUbg",
        "outputId": "315c471f-d71d-4e6d-a4a4-89ab14343b47"
      },
      "outputs": [
        {
          "data": {
            "application/vnd.jupyter.widget-view+json": {
              "model_id": "c3add803b06b4f0ea55e2bb8c1f5e0cf",
              "version_major": 2,
              "version_minor": 0
            },
            "text/plain": [
              "interactive(children=(RadioButtons(description='Choose Model', layout=Layout(width='250px'), options=('Linear …"
            ]
          },
          "metadata": {},
          "output_type": "display_data"
        }
      ],
      "source": [
        "style = {'description_width': 'initial'}\n",
        "# Continuous_update = False for IntSlider control to stop continuous model evaluation while the slider is being dragged\n",
        "m = interactive(func_fit,model_type=widgets.RadioButtons(options=['Linear regression','LASSO', 'Ridge'],\n",
        "                                                         description = \"Choose Model\",style=style,\n",
        "                                                         layout=Layout(width='250px')),\n",
        "                test_size=widgets.Dropdown(options={\"10% of data\":0.1,\"25% of data\":0.25, \"50% of data\":0.5, \"75% of data\":0.75},\n",
        "                                           description=\"Test set size\",style=style, value=0.5),\n",
        "                degree=widgets.IntSlider(min=1, max=40, step=1, description=r'Polynomial degree',\n",
        "                                       style=style, continuous_update=False),\n",
        "                alpha=widgets.FloatSlider(min=-15, max=10, step=1, description=r'ln λ',\n",
        "                                       style=style, continuous_update=False),\n",
        "                resolution=fixed(500))\n",
        "\n",
        "# Display the control\n",
        "display(m)"
      ]
    },
    {
      "cell_type": "markdown",
      "metadata": {
        "id": "m-frd0A5FUbg"
      },
      "source": [
        "### Visualize coefficients"
      ]
    },
    {
      "cell_type": "code",
      "execution_count": null,
      "metadata": {
        "colab": {
          "base_uri": "https://localhost:8080/",
          "height": 471
        },
        "id": "xPttoNEAFUbg",
        "outputId": "7c566595-8331-441f-dffd-cc577edfc480",
        "scrolled": true
      },
      "outputs": [
        {
          "name": "stdout",
          "output_type": "stream",
          "text": [
            "model parameters; [-4.82125414  3.61433543]\n"
          ]
        },
        {
          "data": {
            "image/png": "[encoded data removed]",
            "text/plain": [
              "<Figure size 640x480 with 1 Axes>"
            ]
          },
          "metadata": {},
          "output_type": "display_data"
        }
      ],
      "source": [
        "e_train, e_text, model, model_type, test_size = m.result\n",
        "print(\"model parameters;\", model.coef_)\n",
        "\n",
        "plt.xlabel('Parameter number (0 is intercept)')\n",
        "plt.ylabel('Parameter value')\n",
        "plt.grid(axis='y')\n",
        "plt.xticks(np.arange(0, len(model.coef_)))\n",
        "plt.bar(np.arange(0, len(model.coef_)), model.coef_);"
      ]
    },
    {
      "cell_type": "markdown",
      "metadata": {
        "id": "flV8Z9P4FUbg"
      },
      "source": [
        "### Cross-validation\n",
        "Set parameters and parameter ranges, which should depend on whether the model type is LASSO or Ridge:"
      ]
    },
    {
      "cell_type": "code",
      "execution_count": null,
      "metadata": {
        "id": "Ta0LIa9eFUbg"
      },
      "outputs": [],
      "source": [
        "if model_type=='Linear regression':  # our std. linear regression has no hyperparameters\n",
        "    model_type = 'Ridge'\n",
        "log_lambda_range = np.arange(-5,3)  # range of regularization parameters on logarithmic scale\n",
        "degree_range = np.arange(1,6)  # range of degrees for polynomial representation\n",
        "folds = 5  # number of folds for cross-validation"
      ]
    },
    {
      "cell_type": "markdown",
      "metadata": {
        "id": "2uft3HF0FUbg"
      },
      "source": [
        "Do the cross-validation. After cross-validation, the model is trained with the best parameters on the full training data set and is evaluated on the external test data."
      ]
    },
    {
      "cell_type": "code",
      "execution_count": null,
      "metadata": {
        "colab": {
          "base_uri": "https://localhost:8080/"
        },
        "id": "r0SB4e_QFUbh",
        "outputId": "cb4cebbd-88ce-403d-bb28-2c0c62e42b63"
      },
      "outputs": [
        {
          "name": "stdout",
          "output_type": "stream",
          "text": [
            "Best average CV score: 0.895718570155417\n",
            "Ridge model, degree: 5 log. lambda: -5\n",
            "Performance best model on training set: 0.9669254925592289\n",
            "Performance best model on test set: 0.9556395512791441\n"
          ]
        }
      ],
      "source": [
        "best_degree = 0\n",
        "best_log_lambda = 0\n",
        "best_cv_score = 0\n",
        "\n",
        "# (X_train, y_train) are used for cross-validation\n",
        "# (X_test, y_test) are used for testing the model and is not used in training and model selection (cross-validation)\n",
        "X_train, X_test, y_train, y_test = train_test_split(x, y, test_size=test_size, random_state=55)\n",
        "\n",
        "scaler = StandardScaler()\n",
        "kf = KFold(n_splits=folds)\n",
        "\n",
        "for degree in degree_range:  # loop over degrees\n",
        "    # Compute polynomial features including constant (bias) feature (include_bias=True)\n",
        "    poly = PolynomialFeatures(degree=degree, interaction_only=False)\n",
        "    X_train_poly = poly.fit_transform(X_train)\n",
        "    for log_lambda in log_lambda_range:  # loop of regularization parameters\n",
        "        cv_score = 0\n",
        "        for train_i, val_i in kf.split(X_train_poly):  # loop over cross-validation folds\n",
        "            X_train_fold, y_train_fold = X_train_poly[train_i], y_train[train_i]\n",
        "            X_val_fold, y_val_fold = X_train_poly[val_i], y_train[val_i]\n",
        "\n",
        "            # Only the current training data is used for scaling\n",
        "            scaler.fit_transform(X_train_fold)\n",
        "            scaler.transform(X_val_fold)\n",
        "\n",
        "            # Features include constant (bias), so we need not fit an extra intercept\n",
        "            if (model_type=='Ridge'):\n",
        "                model = Ridge(alpha=np.exp(log_lambda), fit_intercept=False)\n",
        "            elif (model_type=='LASSO'):\n",
        "                model = Lasso(alpha=np.exp(log_lambda), fit_intercept=False, max_iter=lasso_iter)\n",
        "            else:\n",
        "                print(\"unknown model: only LASSO and Ridge are supported\")\n",
        "                assert(False)\n",
        "            model.fit(X_train_fold, y_train_fold)\n",
        "\n",
        "            score = model.score(X_val_fold, y_val_fold)\n",
        "            cv_score += score\n",
        "        if cv_score > best_cv_score:  # found new best score?\n",
        "            best_cv_score = cv_score\n",
        "            best_degree = degree\n",
        "            best_log_lambda = log_lambda\n",
        "\n",
        "print(\"Best average CV score:\", best_cv_score / folds)\n",
        "print(model_type, \"model, degree:\", best_degree, \"log. lambda:\", best_log_lambda)\n",
        "\n",
        "# After cross-validation, the model\n",
        "#   is trained with the best parameters on the full training data set and\n",
        "#   is evaluated on the external test data\n",
        "poly = PolynomialFeatures(degree=best_degree, interaction_only=False)\n",
        "X_train_poly = poly.fit_transform(X_train)\n",
        "X_test_poly  = poly.transform(X_test)\n",
        "scaler.fit_transform(X_train_poly)\n",
        "scaler.transform(X_test_poly)\n",
        "if (model_type=='Ridge'):\n",
        "    model = Ridge(alpha=np.exp(best_log_lambda), fit_intercept=False, solver='svd')\n",
        "elif (model_type=='LASSO'):\n",
        "    model = Lasso(alpha=np.exp(best_log_lambda), fit_intercept=False, max_iter=lasso_iter)\n",
        "else:\n",
        "    print(\"unknown model\")\n",
        "    assert(False)\n",
        "model.fit(X_train_poly, y_train)\n",
        "score = model.score(X_train_poly, y_train)\n",
        "print(\"Performance best model on training set:\", score)\n",
        "score = model.score(X_test_poly, y_test)\n",
        "print(\"Performance best model on test set:\", score)\n",
        "\n"
      ]
    },
    {
      "cell_type": "code",
      "execution_count": null,
      "metadata": {
        "id": "zxw_CDwgFUbh"
      },
      "outputs": [],
      "source": []
    },
    {
      "cell_type": "code",
      "execution_count": null,
      "metadata": {},
      "outputs": [],
      "source": []
    },
    {
      "cell_type": "code",
      "execution_count": null,
      "metadata": {},
      "outputs": [],
      "source": []
    }
  ],
  "metadata": {
    "colab": {
      "provenance": []
    },
    "kernelspec": {
      "display_name": "Python 3",
      "language": "python",
      "name": "python3"
    },
    "language_info": {
      "codemirror_mode": {
        "name": "ipython",
        "version": 3
      },
      "file_extension": ".py",
      "mimetype": "text/x-python",
      "name": "python",
      "nbconvert_exporter": "python",
      "pygments_lexer": "ipython3",
      "version": "3.11.13"
    },
    "widgets": {
      "application/vnd.jupyter.widget-state+json": {
        "03bd904281dc41f8bf23b8b31aeeaa26": {
          "model_module": "@jupyter-widgets/base",
          "model_module_version": "1.2.0",
          "model_name": "LayoutModel",
          "state": {
            "_model_module": "@jupyter-widgets/base",
            "_model_module_version": "1.2.0",
            "_model_name": "LayoutModel",
            "_view_count": null,
            "_view_module": "@jupyter-widgets/base",
            "_view_module_version": "1.2.0",
            "_view_name": "LayoutView",
            "align_content": null,
            "align_items": null,
            "align_self": null,
            "border": null,
            "bottom": null,
            "display": null,
            "flex": null,
            "flex_flow": null,
            "grid_area": null,
            "grid_auto_columns": null,
            "grid_auto_flow": null,
            "grid_auto_rows": null,
            "grid_column": null,
            "grid_gap": null,
            "grid_row": null,
            "grid_template_areas": null,
            "grid_template_columns": null,
            "grid_template_rows": null,
            "height": null,
            "justify_content": null,
            "justify_items": null,
            "left": null,
            "margin": null,
            "max_height": null,
            "max_width": null,
            "min_height": null,
            "min_width": null,
            "object_fit": null,
            "object_position": null,
            "order": null,
            "overflow": null,
            "overflow_x": null,
            "overflow_y": null,
            "padding": null,
            "right": null,
            "top": null,
            "visibility": null,
            "width": null
          }
        },
        "06b114a5cfad4786ad9376c5baf8885e": {
          "model_module": "@jupyter-widgets/controls",
          "model_module_version": "1.5.0",
          "model_name": "FloatSliderModel",
          "state": {
            "_dom_classes": [],
            "_model_module": "@jupyter-widgets/controls",
            "_model_module_version": "1.5.0",
            "_model_name": "FloatSliderModel",
            "_view_count": null,
            "_view_module": "@jupyter-widgets/controls",
            "_view_module_version": "1.5.0",
            "_view_name": "FloatSliderView",
            "continuous_update": false,
            "description": "noise sd",
            "description_tooltip": null,
            "disabled": false,
            "layout": "IPY_MODEL_91fefb5088f145a18a47d23ec973bcd2",
            "max": 10,
            "min": 0,
            "orientation": "horizontal",
            "readout": true,
            "readout_format": ".2f",
            "step": 0.5,
            "style": "IPY_MODEL_61696d33f9134e6f8402f4d31f1a797a",
            "value": 5
          }
        },
        "08f2802058f149d79c3f4f3b52782666": {
          "model_module": "@jupyter-widgets/output",
          "model_module_version": "1.0.0",
          "model_name": "OutputModel",
          "state": {
            "_dom_classes": [],
            "_model_module": "@jupyter-widgets/output",
            "_model_module_version": "1.0.0",
            "_model_name": "OutputModel",
            "_view_count": null,
            "_view_module": "@jupyter-widgets/output",
            "_view_module_version": "1.0.0",
            "_view_name": "OutputView",
            "layout": "IPY_MODEL_ef33367ff85642b8ab7ae8557b0c9baf",
            "msg_id": "",
            "outputs": [
              {
                "data": {
                  "image/png": "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\n",
                  "text/plain": "<Figure size 800x500 with 1 Axes>"
                },
                "metadata": {},
                "output_type": "display_data"
              }
            ]
          }
        },
        "1e72dc457790421d9d3a0ef8aea2ad59": {
          "model_module": "@jupyter-widgets/controls",
          "model_module_version": "1.5.0",
          "model_name": "VBoxModel",
          "state": {
            "_dom_classes": [
              "widget-interact"
            ],
            "_model_module": "@jupyter-widgets/controls",
            "_model_module_version": "1.5.0",
            "_model_name": "VBoxModel",
            "_view_count": null,
            "_view_module": "@jupyter-widgets/controls",
            "_view_module_version": "1.5.0",
            "_view_name": "VBoxView",
            "box_style": "",
            "children": [
              "IPY_MODEL_664c43f38a2a43caac728a73fba19365",
              "IPY_MODEL_06b114a5cfad4786ad9376c5baf8885e",
              "IPY_MODEL_08f2802058f149d79c3f4f3b52782666"
            ],
            "layout": "IPY_MODEL_7bc0fddb5d2c432aa3c5f42d81160300"
          }
        },
        "1f485529fb4e4eff9b06a0a279b87a7a": {
          "model_module": "@jupyter-widgets/output",
          "model_module_version": "1.0.0",
          "model_name": "OutputModel",
          "state": {
            "_dom_classes": [],
            "_model_module": "@jupyter-widgets/output",
            "_model_module_version": "1.0.0",
            "_model_name": "OutputModel",
            "_view_count": null,
            "_view_module": "@jupyter-widgets/output",
            "_view_module_version": "1.0.0",
            "_view_name": "OutputView",
            "layout": "IPY_MODEL_20327694b1c64da28cf180e0fe37fd49",
            "msg_id": "",
            "outputs": [
              {
                "data": {
                  "image/png": "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\n",
                  "text/plain": "<Figure size 1400x600 with 2 Axes>"
                },
                "metadata": {},
                "output_type": "display_data"
              }
            ]
          }
        },
        "20327694b1c64da28cf180e0fe37fd49": {
          "model_module": "@jupyter-widgets/base",
          "model_module_version": "1.2.0",
          "model_name": "LayoutModel",
          "state": {
            "_model_module": "@jupyter-widgets/base",
            "_model_module_version": "1.2.0",
            "_model_name": "LayoutModel",
            "_view_count": null,
            "_view_module": "@jupyter-widgets/base",
            "_view_module_version": "1.2.0",
            "_view_name": "LayoutView",
            "align_content": null,
            "align_items": null,
            "align_self": null,
            "border": null,
            "bottom": null,
            "display": null,
            "flex": null,
            "flex_flow": null,
            "grid_area": null,
            "grid_auto_columns": null,
            "grid_auto_flow": null,
            "grid_auto_rows": null,
            "grid_column": null,
            "grid_gap": null,
            "grid_row": null,
            "grid_template_areas": null,
            "grid_template_columns": null,
            "grid_template_rows": null,
            "height": null,
            "justify_content": null,
            "justify_items": null,
            "left": null,
            "margin": null,
            "max_height": null,
            "max_width": null,
            "min_height": null,
            "min_width": null,
            "object_fit": null,
            "object_position": null,
            "order": null,
            "overflow": null,
            "overflow_x": null,
            "overflow_y": null,
            "padding": null,
            "right": null,
            "top": null,
            "visibility": null,
            "width": null
          }
        },
        "2c39d0b057ed42468fb060e99fe2ddc8": {
          "model_module": "@jupyter-widgets/base",
          "model_module_version": "1.2.0",
          "model_name": "LayoutModel",
          "state": {
            "_model_module": "@jupyter-widgets/base",
            "_model_module_version": "1.2.0",
            "_model_name": "LayoutModel",
            "_view_count": null,
            "_view_module": "@jupyter-widgets/base",
            "_view_module_version": "1.2.0",
            "_view_name": "LayoutView",
            "align_content": null,
            "align_items": null,
            "align_self": null,
            "border": null,
            "bottom": null,
            "display": null,
            "flex": null,
            "flex_flow": null,
            "grid_area": null,
            "grid_auto_columns": null,
            "grid_auto_flow": null,
            "grid_auto_rows": null,
            "grid_column": null,
            "grid_gap": null,
            "grid_row": null,
            "grid_template_areas": null,
            "grid_template_columns": null,
            "grid_template_rows": null,
            "height": null,
            "justify_content": null,
            "justify_items": null,
            "left": null,
            "margin": null,
            "max_height": null,
            "max_width": null,
            "min_height": null,
            "min_width": null,
            "object_fit": null,
            "object_position": null,
            "order": null,
            "overflow": null,
            "overflow_x": null,
            "overflow_y": null,
            "padding": null,
            "right": null,
            "top": null,
            "visibility": null,
            "width": "250px"
          }
        },
        "30789375dd894cc897274ee51d2bd110": {
          "model_module": "@jupyter-widgets/controls",
          "model_module_version": "1.5.0",
          "model_name": "IntSliderModel",
          "state": {
            "_dom_classes": [],
            "_model_module": "@jupyter-widgets/controls",
            "_model_module_version": "1.5.0",
            "_model_name": "IntSliderModel",
            "_view_count": null,
            "_view_module": "@jupyter-widgets/controls",
            "_view_module_version": "1.5.0",
            "_view_name": "IntSliderView",
            "continuous_update": false,
            "description": "Polynomial degree",
            "description_tooltip": null,
            "disabled": false,
            "layout": "IPY_MODEL_8f8143bc097a43cf8ffc5c19f583cbf1",
            "max": 40,
            "min": 1,
            "orientation": "horizontal",
            "readout": true,
            "readout_format": "d",
            "step": 1,
            "style": "IPY_MODEL_762f35b652d449f19efd8506f2b72138",
            "value": 1
          }
        },
        "3c3016fe21754e34a5915b63703321b7": {
          "model_module": "@jupyter-widgets/base",
          "model_module_version": "1.2.0",
          "model_name": "LayoutModel",
          "state": {
            "_model_module": "@jupyter-widgets/base",
            "_model_module_version": "1.2.0",
            "_model_name": "LayoutModel",
            "_view_count": null,
            "_view_module": "@jupyter-widgets/base",
            "_view_module_version": "1.2.0",
            "_view_name": "LayoutView",
            "align_content": null,
            "align_items": null,
            "align_self": null,
            "border": null,
            "bottom": null,
            "display": null,
            "flex": null,
            "flex_flow": null,
            "grid_area": null,
            "grid_auto_columns": null,
            "grid_auto_flow": null,
            "grid_auto_rows": null,
            "grid_column": null,
            "grid_gap": null,
            "grid_row": null,
            "grid_template_areas": null,
            "grid_template_columns": null,
            "grid_template_rows": null,
            "height": null,
            "justify_content": null,
            "justify_items": null,
            "left": null,
            "margin": null,
            "max_height": null,
            "max_width": null,
            "min_height": null,
            "min_width": null,
            "object_fit": null,
            "object_position": null,
            "order": null,
            "overflow": null,
            "overflow_x": null,
            "overflow_y": null,
            "padding": null,
            "right": null,
            "top": null,
            "visibility": null,
            "width": null
          }
        },
        "3dece1ae58424f5aac0616d25cc60efb": {
          "model_module": "@jupyter-widgets/base",
          "model_module_version": "1.2.0",
          "model_name": "LayoutModel",
          "state": {
            "_model_module": "@jupyter-widgets/base",
            "_model_module_version": "1.2.0",
            "_model_name": "LayoutModel",
            "_view_count": null,
            "_view_module": "@jupyter-widgets/base",
            "_view_module_version": "1.2.0",
            "_view_name": "LayoutView",
            "align_content": null,
            "align_items": null,
            "align_self": null,
            "border": null,
            "bottom": null,
            "display": null,
            "flex": null,
            "flex_flow": null,
            "grid_area": null,
            "grid_auto_columns": null,
            "grid_auto_flow": null,
            "grid_auto_rows": null,
            "grid_column": null,
            "grid_gap": null,
            "grid_row": null,
            "grid_template_areas": null,
            "grid_template_columns": null,
            "grid_template_rows": null,
            "height": null,
            "justify_content": null,
            "justify_items": null,
            "left": null,
            "margin": null,
            "max_height": null,
            "max_width": null,
            "min_height": null,
            "min_width": null,
            "object_fit": null,
            "object_position": null,
            "order": null,
            "overflow": null,
            "overflow_x": null,
            "overflow_y": null,
            "padding": null,
            "right": null,
            "top": null,
            "visibility": null,
            "width": null
          }
        },
        "3eaaffcfb26f437aa09ffb0f3a951362": {
          "model_module": "@jupyter-widgets/controls",
          "model_module_version": "1.5.0",
          "model_name": "DropdownModel",
          "state": {
            "_dom_classes": [],
            "_model_module": "@jupyter-widgets/controls",
            "_model_module_version": "1.5.0",
            "_model_name": "DropdownModel",
            "_options_labels": [
              "10% of data",
              "25% of data",
              "50% of data",
              "75% of data"
            ],
            "_view_count": null,
            "_view_module": "@jupyter-widgets/controls",
            "_view_module_version": "1.5.0",
            "_view_name": "DropdownView",
            "description": "Test set size",
            "description_tooltip": null,
            "disabled": false,
            "index": 2,
            "layout": "IPY_MODEL_03bd904281dc41f8bf23b8b31aeeaa26",
            "style": "IPY_MODEL_b03433df977041008ab16417f58cdc1e"
          }
        },
        "4b76867b96894135b28afc2fa9738e92": {
          "model_module": "@jupyter-widgets/controls",
          "model_module_version": "1.5.0",
          "model_name": "RadioButtonsModel",
          "state": {
            "_dom_classes": [],
            "_model_module": "@jupyter-widgets/controls",
            "_model_module_version": "1.5.0",
            "_model_name": "RadioButtonsModel",
            "_options_labels": [
              "Linear regression",
              "LASSO",
              "Ridge"
            ],
            "_view_count": null,
            "_view_module": "@jupyter-widgets/controls",
            "_view_module_version": "1.5.0",
            "_view_name": "RadioButtonsView",
            "description": "Choose Model",
            "description_tooltip": null,
            "disabled": false,
            "index": 0,
            "layout": "IPY_MODEL_2c39d0b057ed42468fb060e99fe2ddc8",
            "style": "IPY_MODEL_b56c80c723eb430c983967d4b2df4460"
          }
        },
        "551211fc11d3425cac406390e410ef32": {
          "model_module": "@jupyter-widgets/controls",
          "model_module_version": "1.5.0",
          "model_name": "SliderStyleModel",
          "state": {
            "_model_module": "@jupyter-widgets/controls",
            "_model_module_version": "1.5.0",
            "_model_name": "SliderStyleModel",
            "_view_count": null,
            "_view_module": "@jupyter-widgets/base",
            "_view_module_version": "1.2.0",
            "_view_name": "StyleView",
            "description_width": "initial",
            "handle_color": null
          }
        },
        "61696d33f9134e6f8402f4d31f1a797a": {
          "model_module": "@jupyter-widgets/controls",
          "model_module_version": "1.5.0",
          "model_name": "SliderStyleModel",
          "state": {
            "_model_module": "@jupyter-widgets/controls",
            "_model_module_version": "1.5.0",
            "_model_name": "SliderStyleModel",
            "_view_count": null,
            "_view_module": "@jupyter-widgets/base",
            "_view_module_version": "1.2.0",
            "_view_name": "StyleView",
            "description_width": "",
            "handle_color": null
          }
        },
        "664c43f38a2a43caac728a73fba19365": {
          "model_module": "@jupyter-widgets/controls",
          "model_module_version": "1.5.0",
          "model_name": "IntSliderModel",
          "state": {
            "_dom_classes": [],
            "_model_module": "@jupyter-widgets/controls",
            "_model_module_version": "1.5.0",
            "_model_name": "IntSliderModel",
            "_view_count": null,
            "_view_module": "@jupyter-widgets/controls",
            "_view_module_version": "1.5.0",
            "_view_name": "IntSliderView",
            "continuous_update": false,
            "description": "#samples",
            "description_tooltip": null,
            "disabled": false,
            "layout": "IPY_MODEL_f4b0eac0a0354c198ad40834c0916df2",
            "max": 200,
            "min": 10,
            "orientation": "horizontal",
            "readout": true,
            "readout_format": "d",
            "step": 10,
            "style": "IPY_MODEL_7953d08c7baa491eabefc1e8bbee6f80",
            "value": 160
          }
        },
        "762f35b652d449f19efd8506f2b72138": {
          "model_module": "@jupyter-widgets/controls",
          "model_module_version": "1.5.0",
          "model_name": "SliderStyleModel",
          "state": {
            "_model_module": "@jupyter-widgets/controls",
            "_model_module_version": "1.5.0",
            "_model_name": "SliderStyleModel",
            "_view_count": null,
            "_view_module": "@jupyter-widgets/base",
            "_view_module_version": "1.2.0",
            "_view_name": "StyleView",
            "description_width": "initial",
            "handle_color": null
          }
        },
        "7953d08c7baa491eabefc1e8bbee6f80": {
          "model_module": "@jupyter-widgets/controls",
          "model_module_version": "1.5.0",
          "model_name": "SliderStyleModel",
          "state": {
            "_model_module": "@jupyter-widgets/controls",
            "_model_module_version": "1.5.0",
            "_model_name": "SliderStyleModel",
            "_view_count": null,
            "_view_module": "@jupyter-widgets/base",
            "_view_module_version": "1.2.0",
            "_view_name": "StyleView",
            "description_width": "",
            "handle_color": null
          }
        },
        "7bc0fddb5d2c432aa3c5f42d81160300": {
          "model_module": "@jupyter-widgets/base",
          "model_module_version": "1.2.0",
          "model_name": "LayoutModel",
          "state": {
            "_model_module": "@jupyter-widgets/base",
            "_model_module_version": "1.2.0",
            "_model_name": "LayoutModel",
            "_view_count": null,
            "_view_module": "@jupyter-widgets/base",
            "_view_module_version": "1.2.0",
            "_view_name": "LayoutView",
            "align_content": null,
            "align_items": null,
            "align_self": null,
            "border": null,
            "bottom": null,
            "display": null,
            "flex": null,
            "flex_flow": null,
            "grid_area": null,
            "grid_auto_columns": null,
            "grid_auto_flow": null,
            "grid_auto_rows": null,
            "grid_column": null,
            "grid_gap": null,
            "grid_row": null,
            "grid_template_areas": null,
            "grid_template_columns": null,
            "grid_template_rows": null,
            "height": null,
            "justify_content": null,
            "justify_items": null,
            "left": null,
            "margin": null,
            "max_height": null,
            "max_width": null,
            "min_height": null,
            "min_width": null,
            "object_fit": null,
            "object_position": null,
            "order": null,
            "overflow": null,
            "overflow_x": null,
            "overflow_y": null,
            "padding": null,
            "right": null,
            "top": null,
            "visibility": null,
            "width": null
          }
        },
        "8f8143bc097a43cf8ffc5c19f583cbf1": {
          "model_module": "@jupyter-widgets/base",
          "model_module_version": "1.2.0",
          "model_name": "LayoutModel",
          "state": {
            "_model_module": "@jupyter-widgets/base",
            "_model_module_version": "1.2.0",
            "_model_name": "LayoutModel",
            "_view_count": null,
            "_view_module": "@jupyter-widgets/base",
            "_view_module_version": "1.2.0",
            "_view_name": "LayoutView",
            "align_content": null,
            "align_items": null,
            "align_self": null,
            "border": null,
            "bottom": null,
            "display": null,
            "flex": null,
            "flex_flow": null,
            "grid_area": null,
            "grid_auto_columns": null,
            "grid_auto_flow": null,
            "grid_auto_rows": null,
            "grid_column": null,
            "grid_gap": null,
            "grid_row": null,
            "grid_template_areas": null,
            "grid_template_columns": null,
            "grid_template_rows": null,
            "height": null,
            "justify_content": null,
            "justify_items": null,
            "left": null,
            "margin": null,
            "max_height": null,
            "max_width": null,
            "min_height": null,
            "min_width": null,
            "object_fit": null,
            "object_position": null,
            "order": null,
            "overflow": null,
            "overflow_x": null,
            "overflow_y": null,
            "padding": null,
            "right": null,
            "top": null,
            "visibility": null,
            "width": null
          }
        },
        "91fefb5088f145a18a47d23ec973bcd2": {
          "model_module": "@jupyter-widgets/base",
          "model_module_version": "1.2.0",
          "model_name": "LayoutModel",
          "state": {
            "_model_module": "@jupyter-widgets/base",
            "_model_module_version": "1.2.0",
            "_model_name": "LayoutModel",
            "_view_count": null,
            "_view_module": "@jupyter-widgets/base",
            "_view_module_version": "1.2.0",
            "_view_name": "LayoutView",
            "align_content": null,
            "align_items": null,
            "align_self": null,
            "border": null,
            "bottom": null,
            "display": null,
            "flex": null,
            "flex_flow": null,
            "grid_area": null,
            "grid_auto_columns": null,
            "grid_auto_flow": null,
            "grid_auto_rows": null,
            "grid_column": null,
            "grid_gap": null,
            "grid_row": null,
            "grid_template_areas": null,
            "grid_template_columns": null,
            "grid_template_rows": null,
            "height": null,
            "justify_content": null,
            "justify_items": null,
            "left": null,
            "margin": null,
            "max_height": null,
            "max_width": null,
            "min_height": null,
            "min_width": null,
            "object_fit": null,
            "object_position": null,
            "order": null,
            "overflow": null,
            "overflow_x": null,
            "overflow_y": null,
            "padding": null,
            "right": null,
            "top": null,
            "visibility": null,
            "width": null
          }
        },
        "b03433df977041008ab16417f58cdc1e": {
          "model_module": "@jupyter-widgets/controls",
          "model_module_version": "1.5.0",
          "model_name": "DescriptionStyleModel",
          "state": {
            "_model_module": "@jupyter-widgets/controls",
            "_model_module_version": "1.5.0",
            "_model_name": "DescriptionStyleModel",
            "_view_count": null,
            "_view_module": "@jupyter-widgets/base",
            "_view_module_version": "1.2.0",
            "_view_name": "StyleView",
            "description_width": "initial"
          }
        },
        "b56c80c723eb430c983967d4b2df4460": {
          "model_module": "@jupyter-widgets/controls",
          "model_module_version": "1.5.0",
          "model_name": "DescriptionStyleModel",
          "state": {
            "_model_module": "@jupyter-widgets/controls",
            "_model_module_version": "1.5.0",
            "_model_name": "DescriptionStyleModel",
            "_view_count": null,
            "_view_module": "@jupyter-widgets/base",
            "_view_module_version": "1.2.0",
            "_view_name": "StyleView",
            "description_width": "initial"
          }
        },
        "c1c99fe23aea4e23adf3bcbfcecc02e8": {
          "model_module": "@jupyter-widgets/controls",
          "model_module_version": "1.5.0",
          "model_name": "CheckboxModel",
          "state": {
            "_dom_classes": [],
            "_model_module": "@jupyter-widgets/controls",
            "_model_module_version": "1.5.0",
            "_model_name": "CheckboxModel",
            "_view_count": null,
            "_view_module": "@jupyter-widgets/controls",
            "_view_module_version": "1.5.0",
            "_view_name": "CheckboxView",
            "description": "save",
            "description_tooltip": null,
            "disabled": false,
            "indent": true,
            "layout": "IPY_MODEL_3c3016fe21754e34a5915b63703321b7",
            "style": "IPY_MODEL_e8cea78e07024a21bfddbc35a8369781",
            "value": false
          }
        },
        "c3add803b06b4f0ea55e2bb8c1f5e0cf": {
          "model_module": "@jupyter-widgets/controls",
          "model_module_version": "1.5.0",
          "model_name": "VBoxModel",
          "state": {
            "_dom_classes": [
              "widget-interact"
            ],
            "_model_module": "@jupyter-widgets/controls",
            "_model_module_version": "1.5.0",
            "_model_name": "VBoxModel",
            "_view_count": null,
            "_view_module": "@jupyter-widgets/controls",
            "_view_module_version": "1.5.0",
            "_view_name": "VBoxView",
            "box_style": "",
            "children": [
              "IPY_MODEL_4b76867b96894135b28afc2fa9738e92",
              "IPY_MODEL_3eaaffcfb26f437aa09ffb0f3a951362",
              "IPY_MODEL_30789375dd894cc897274ee51d2bd110",
              "IPY_MODEL_fa36073fcc2649bf893cb9ecae4807ee",
              "IPY_MODEL_c1c99fe23aea4e23adf3bcbfcecc02e8",
              "IPY_MODEL_1f485529fb4e4eff9b06a0a279b87a7a"
            ],
            "layout": "IPY_MODEL_d673d92b534747c78c47cb8d57dd8070"
          }
        },
        "d673d92b534747c78c47cb8d57dd8070": {
          "model_module": "@jupyter-widgets/base",
          "model_module_version": "1.2.0",
          "model_name": "LayoutModel",
          "state": {
            "_model_module": "@jupyter-widgets/base",
            "_model_module_version": "1.2.0",
            "_model_name": "LayoutModel",
            "_view_count": null,
            "_view_module": "@jupyter-widgets/base",
            "_view_module_version": "1.2.0",
            "_view_name": "LayoutView",
            "align_content": null,
            "align_items": null,
            "align_self": null,
            "border": null,
            "bottom": null,
            "display": null,
            "flex": null,
            "flex_flow": null,
            "grid_area": null,
            "grid_auto_columns": null,
            "grid_auto_flow": null,
            "grid_auto_rows": null,
            "grid_column": null,
            "grid_gap": null,
            "grid_row": null,
            "grid_template_areas": null,
            "grid_template_columns": null,
            "grid_template_rows": null,
            "height": null,
            "justify_content": null,
            "justify_items": null,
            "left": null,
            "margin": null,
            "max_height": null,
            "max_width": null,
            "min_height": null,
            "min_width": null,
            "object_fit": null,
            "object_position": null,
            "order": null,
            "overflow": null,
            "overflow_x": null,
            "overflow_y": null,
            "padding": null,
            "right": null,
            "top": null,
            "visibility": null,
            "width": null
          }
        },
        "e8cea78e07024a21bfddbc35a8369781": {
          "model_module": "@jupyter-widgets/controls",
          "model_module_version": "1.5.0",
          "model_name": "DescriptionStyleModel",
          "state": {
            "_model_module": "@jupyter-widgets/controls",
            "_model_module_version": "1.5.0",
            "_model_name": "DescriptionStyleModel",
            "_view_count": null,
            "_view_module": "@jupyter-widgets/base",
            "_view_module_version": "1.2.0",
            "_view_name": "StyleView",
            "description_width": ""
          }
        },
        "ef33367ff85642b8ab7ae8557b0c9baf": {
          "model_module": "@jupyter-widgets/base",
          "model_module_version": "1.2.0",
          "model_name": "LayoutModel",
          "state": {
            "_model_module": "@jupyter-widgets/base",
            "_model_module_version": "1.2.0",
            "_model_name": "LayoutModel",
            "_view_count": null,
            "_view_module": "@jupyter-widgets/base",
            "_view_module_version": "1.2.0",
            "_view_name": "LayoutView",
            "align_content": null,
            "align_items": null,
            "align_self": null,
            "border": null,
            "bottom": null,
            "display": null,
            "flex": null,
            "flex_flow": null,
            "grid_area": null,
            "grid_auto_columns": null,
            "grid_auto_flow": null,
            "grid_auto_rows": null,
            "grid_column": null,
            "grid_gap": null,
            "grid_row": null,
            "grid_template_areas": null,
            "grid_template_columns": null,
            "grid_template_rows": null,
            "height": null,
            "justify_content": null,
            "justify_items": null,
            "left": null,
            "margin": null,
            "max_height": null,
            "max_width": null,
            "min_height": null,
            "min_width": null,
            "object_fit": null,
            "object_position": null,
            "order": null,
            "overflow": null,
            "overflow_x": null,
            "overflow_y": null,
            "padding": null,
            "right": null,
            "top": null,
            "visibility": null,
            "width": null
          }
        },
        "f4b0eac0a0354c198ad40834c0916df2": {
          "model_module": "@jupyter-widgets/base",
          "model_module_version": "1.2.0",
          "model_name": "LayoutModel",
          "state": {
            "_model_module": "@jupyter-widgets/base",
            "_model_module_version": "1.2.0",
            "_model_name": "LayoutModel",
            "_view_count": null,
            "_view_module": "@jupyter-widgets/base",
            "_view_module_version": "1.2.0",
            "_view_name": "LayoutView",
            "align_content": null,
            "align_items": null,
            "align_self": null,
            "border": null,
            "bottom": null,
            "display": null,
            "flex": null,
            "flex_flow": null,
            "grid_area": null,
            "grid_auto_columns": null,
            "grid_auto_flow": null,
            "grid_auto_rows": null,
            "grid_column": null,
            "grid_gap": null,
            "grid_row": null,
            "grid_template_areas": null,
            "grid_template_columns": null,
            "grid_template_rows": null,
            "height": null,
            "justify_content": null,
            "justify_items": null,
            "left": null,
            "margin": null,
            "max_height": null,
            "max_width": null,
            "min_height": null,
            "min_width": null,
            "object_fit": null,
            "object_position": null,
            "order": null,
            "overflow": null,
            "overflow_x": null,
            "overflow_y": null,
            "padding": null,
            "right": null,
            "top": null,
            "visibility": null,
            "width": null
          }
        },
        "fa36073fcc2649bf893cb9ecae4807ee": {
          "model_module": "@jupyter-widgets/controls",
          "model_module_version": "1.5.0",
          "model_name": "FloatSliderModel",
          "state": {
            "_dom_classes": [],
            "_model_module": "@jupyter-widgets/controls",
            "_model_module_version": "1.5.0",
            "_model_name": "FloatSliderModel",
            "_view_count": null,
            "_view_module": "@jupyter-widgets/controls",
            "_view_module_version": "1.5.0",
            "_view_name": "FloatSliderView",
            "continuous_update": false,
            "description": "ln λ",
            "description_tooltip": null,
            "disabled": false,
            "layout": "IPY_MODEL_3dece1ae58424f5aac0616d25cc60efb",
            "max": 10,
            "min": -15,
            "orientation": "horizontal",
            "readout": true,
            "readout_format": ".2f",
            "step": 1,
            "style": "IPY_MODEL_551211fc11d3425cac406390e410ef32",
            "value": 0
          }
        }
      }
    }
  },
  "nbformat": 4,
  "nbformat_minor": 0
}
