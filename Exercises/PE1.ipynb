{
 "cells": [
  {
   "cell_type": "code",
   "execution_count": null,
   "id": "f3c71040",
   "metadata": {},
   "outputs": [
    {
     "name": "stdout",
     "output_type": "stream",
     "text": [
      "w1 = 44.734510, w2 = -36.833333, b = 1105.415353\n",
      "MSE = 79709.304759\n"
     ]
    }
   ],
   "source": [
    "import numpy as np\n",
    "\n",
    "# Load your data \n",
    "X = np.loadtxt(\"smallFishInput.dt\")    # shape (m, 2)\n",
    "y = np.loadtxt(\"smallFishLabel.dt\")    # shape (m,)\n",
    "\n",
    "# Ensure shapes\n",
    "X = np.asarray(X).reshape(-1, 2)\n",
    "y = np.asarray(y).reshape(-1)\n",
    "\n",
    "# Augment with ones for bias\n",
    "X_tilde = np.c_[X, np.ones(X.shape[0])]\n",
    "\n",
    "# Solve least squares (preferred over explicitly forming (X^T X)^{-1})\n",
    "w_tilde, *_ = np.linalg.lstsq(X_tilde, y, rcond=None) # Return the least-squares solution to a linear matrix equation.\n",
    "\n",
    "w1, w2, b = w_tilde\n",
    "y_hat = X_tilde @ w_tilde\n",
    "mse = np.mean((y_hat - y)**2)\n",
    "\n",
    "print(f\"w1 = {w1:.6f}, w2 = {w2:.6f}, b = {b:.6f}\")\n",
    "print(f\"MSE = {mse:.6f}\")"
   ]
  },
  {
   "cell_type": "code",
   "execution_count": null,
   "id": "0d86658a",
   "metadata": {},
   "outputs": [],
   "source": []
  }
 ],
 "metadata": {
  "kernelspec": {
   "display_name": "Python 3",
   "language": "python",
   "name": "python3"
  },
  "language_info": {
   "codemirror_mode": {
    "name": "ipython",
    "version": 3
   },
   "file_extension": ".py",
   "mimetype": "text/x-python",
   "name": "python",
   "nbconvert_exporter": "python",
   "pygments_lexer": "ipython3",
   "version": "3.11.13"
  }
 },
 "nbformat": 4,
 "nbformat_minor": 5
}
